{
 "cells": [
  {
   "cell_type": "markdown",
   "metadata": {},
   "source": [
    "# Ch 11: Regular Expressions\n",
    "\n",
    "Back to the good old regex!!\n",
    "\n",
    "As we've seen with `import math` earlier, Python keeps things relatively stripped down, so in order to use regular epxressions, you need to `import re` the regular expression module."
   ]
  },
  {
   "cell_type": "code",
   "execution_count": 4,
   "metadata": {},
   "outputs": [
    {
     "output_type": "stream",
     "name": "stdout",
     "text": "From: stephen.marquard@uct.ac.za\nFrom: louis@media.berkeley.edu\nFrom: zqian@umich.edu\nFrom: rjlowe@iupui.edu\nFrom: zqian@umich.edu\nFrom: rjlowe@iupui.edu\nFrom: cwen@iupui.edu\nFrom: cwen@iupui.edu\nFrom: gsilver@umich.edu\nFrom: gsilver@umich.edu\nFrom: zqian@umich.edu\nFrom: gsilver@umich.edu\nFrom: wagnermr@iupui.edu\nFrom: zqian@umich.edu\nFrom: antranig@caret.cam.ac.uk\nFrom: gopal.ramasammycook@gmail.com\nFrom: david.horwitz@uct.ac.za\nFrom: david.horwitz@uct.ac.za\nFrom: david.horwitz@uct.ac.za\nFrom: david.horwitz@uct.ac.za\nFrom: stephen.marquard@uct.ac.za\nFrom: louis@media.berkeley.edu\nFrom: louis@media.berkeley.edu\nFrom: ray@media.berkeley.edu\nFrom: cwen@iupui.edu\nFrom: cwen@iupui.edu\nFrom: cwen@iupui.edu\n"
    }
   ],
   "source": [
    "# Search for lines that start with 'From'\n",
    "import re\n",
    "hand = open('data/mbox-short.txt')\n",
    "for line in hand:\n",
    "    line = line.rstrip()\n",
    "    if re.search('^From:', line):\n",
    "        print(line)\n",
    "# Code: http://www.py4e.com/code3/re02.py\n"
   ]
  },
  {
   "cell_type": "markdown",
   "metadata": {},
   "source": [
    "Much of this chapter is a review of regular expressions and how to impliment them in Python. Have a look over the content and play with the examples."
   ]
  },
  {
   "cell_type": "markdown",
   "metadata": {},
   "source": [
    "# 11.2 Extracting data using regular expressions\n",
    "\n",
    "Modify re07.py, reproduced below, to print a list of unique email addresses from the file.\n"
   ]
  },
  {
   "cell_type": "code",
   "execution_count": 8,
   "metadata": {},
   "outputs": [
    {
     "output_type": "stream",
     "name": "stdout",
     "text": "['stephen.marquard@uct.ac.za']\n['postmaster@collab.sakaiproject.org']\n['200801051412.m05ECIaH010327@nakamura.uits.iupui.edu']\n['source@collab.sakaiproject.org']\n['source@collab.sakaiproject.org']\n['source@collab.sakaiproject.org']\n['apache@localhost']\n['source@collab.sakaiproject.org']\n['stephen.marquard@uct.ac.za']\n['source@collab.sakaiproject.org']\n['stephen.marquard@uct.ac.za']\n['stephen.marquard@uct.ac.za']\n['louis@media.berkeley.edu']\n['postmaster@collab.sakaiproject.org']\n['200801042308.m04N8v6O008125@nakamura.uits.iupui.edu']\n['source@collab.sakaiproject.org']\n['source@collab.sakaiproject.org']\n['source@collab.sakaiproject.org']\n['apache@localhost']\n['source@collab.sakaiproject.org']\n['louis@media.berkeley.edu']\n['source@collab.sakaiproject.org']\n['louis@media.berkeley.edu']\n['louis@media.berkeley.edu']\n['zqian@umich.edu']\n['postmaster@collab.sakaiproject.org']\n['200801042109.m04L92hb007923@nakamura.uits.iupui.edu']\n['source@collab.sakaiproject.org']\n['source@collab.sakaiproject.org']\n['source@collab.sakaiproject.org']\n['apache@localhost']\n['source@collab.sakaiproject.org']\n['zqian@umich.edu']\n['source@collab.sakaiproject.org']\n['zqian@umich.edu']\n['zqian@umich.edu']\n['rjlowe@iupui.edu']\n['postmaster@collab.sakaiproject.org']\n['200801042044.m04Kiem3007881@nakamura.uits.iupui.edu']\n['source@collab.sakaiproject.org']\n['source@collab.sakaiproject.org']\n['source@collab.sakaiproject.org']\n['apache@localhost']\n['source@collab.sakaiproject.org']\n['rjlowe@iupui.edu']\n['source@collab.sakaiproject.org']\n['rjlowe@iupui.edu']\n['rjlowe@iupui.edu']\n['zqian@umich.edu']\n['postmaster@collab.sakaiproject.org']\n['200801042001.m04K1cO0007738@nakamura.uits.iupui.edu']\n['source@collab.sakaiproject.org']\n['source@collab.sakaiproject.org']\n['source@collab.sakaiproject.org']\n['apache@localhost']\n['source@collab.sakaiproject.org']\n['zqian@umich.edu']\n['source@collab.sakaiproject.org']\n['zqian@umich.edu']\n['zqian@umich.edu']\n['zqian@umich.edu']\n['rjlowe@iupui.edu']\n['postmaster@collab.sakaiproject.org']\n['200801041948.m04JmdwO007705@nakamura.uits.iupui.edu']\n['source@collab.sakaiproject.org']\n['source@collab.sakaiproject.org']\n['source@collab.sakaiproject.org']\n['apache@localhost']\n['source@collab.sakaiproject.org']\n['rjlowe@iupui.edu']\n['source@collab.sakaiproject.org']\n['rjlowe@iupui.edu']\n['rjlowe@iupui.edu']\n['cwen@iupui.edu']\n['postmaster@collab.sakaiproject.org']\n['200801041635.m04GZQGZ007313@nakamura.uits.iupui.edu']\n['source@collab.sakaiproject.org']\n['source@collab.sakaiproject.org']\n['source@collab.sakaiproject.org']\n['apache@localhost']\n['source@collab.sakaiproject.org']\n['cwen@iupui.edu']\n['source@collab.sakaiproject.org']\n['cwen@iupui.edu']\n['cwen@iupui.edu']\n['hu2@iupui.edu']\n['cwen@iupui.edu']\n['postmaster@collab.sakaiproject.org']\n['200801041633.m04GX6eG007292@nakamura.uits.iupui.edu']\n['source@collab.sakaiproject.org']\n['source@collab.sakaiproject.org']\n['source@collab.sakaiproject.org']\n['apache@localhost']\n['source@collab.sakaiproject.org']\n['cwen@iupui.edu']\n['source@collab.sakaiproject.org']\n['cwen@iupui.edu']\n['cwen@iupui.edu']\n['hu2@iupui.edu']\n['gsilver@umich.edu']\n['postmaster@collab.sakaiproject.org']\n['200801041611.m04GB1Lb007221@nakamura.uits.iupui.edu']\n['source@collab.sakaiproject.org']\n['source@collab.sakaiproject.org']\n['source@collab.sakaiproject.org']\n['apache@localhost']\n['source@collab.sakaiproject.org']\n['gsilver@umich.edu']\n['source@collab.sakaiproject.org']\n['gsilver@umich.edu']\n['gsilver@umich.edu']\n['gsilver@umich.edu']\n['postmaster@collab.sakaiproject.org']\n['200801041610.m04GA5KP007209@nakamura.uits.iupui.edu']\n['source@collab.sakaiproject.org']\n['source@collab.sakaiproject.org']\n['source@collab.sakaiproject.org']\n['apache@localhost']\n['source@collab.sakaiproject.org']\n['gsilver@umich.edu']\n['source@collab.sakaiproject.org']\n['gsilver@umich.edu']\n['gsilver@umich.edu']\n['zqian@umich.edu']\n['postmaster@collab.sakaiproject.org']\n['200801041609.m04G9EuX007197@nakamura.uits.iupui.edu']\n['source@collab.sakaiproject.org']\n['source@collab.sakaiproject.org']\n['source@collab.sakaiproject.org']\n['apache@localhost']\n['source@collab.sakaiproject.org']\n['zqian@umich.edu']\n['source@collab.sakaiproject.org']\n['zqian@umich.edu']\n['zqian@umich.edu']\n['gsilver@umich.edu']\n['postmaster@collab.sakaiproject.org']\n['200801041608.m04G8d7w007184@nakamura.uits.iupui.edu']\n['source@collab.sakaiproject.org']\n['source@collab.sakaiproject.org']\n['source@collab.sakaiproject.org']\n['apache@localhost']\n['source@collab.sakaiproject.org']\n['gsilver@umich.edu']\n['source@collab.sakaiproject.org']\n['gsilver@umich.edu']\n['gsilver@umich.edu']\n['wagnermr@iupui.edu']\n['postmaster@collab.sakaiproject.org']\n['200801041537.m04Fb6Ci007092@nakamura.uits.iupui.edu']\n['source@collab.sakaiproject.org']\n['source@collab.sakaiproject.org']\n['source@collab.sakaiproject.org']\n['apache@localhost']\n['source@collab.sakaiproject.org']\n['wagnermr@iupui.edu']\n['source@collab.sakaiproject.org']\n['wagnermr@iupui.edu']\n['wagnermr@iupui.edu']\n['zqian@umich.edu']\n['postmaster@collab.sakaiproject.org']\n['200801041515.m04FFv42007050@nakamura.uits.iupui.edu']\n['source@collab.sakaiproject.org']\n['source@collab.sakaiproject.org']\n['source@collab.sakaiproject.org']\n['apache@localhost']\n['source@collab.sakaiproject.org']\n['zqian@umich.edu']\n['source@collab.sakaiproject.org']\n['zqian@umich.edu']\n['zqian@umich.edu']\n['antranig@caret.cam.ac.uk']\n['postmaster@collab.sakaiproject.org']\n['200801041502.m04F21Jo007031@nakamura.uits.iupui.edu']\n['source@collab.sakaiproject.org']\n['source@collab.sakaiproject.org']\n['source@collab.sakaiproject.org']\n['apache@localhost']\n['source@collab.sakaiproject.org']\n['antranig@caret.cam.ac.uk']\n['source@collab.sakaiproject.org']\n['antranig@caret.cam.ac.uk']\n['antranig@caret.cam.ac.uk']\n['gopal.ramasammycook@gmail.com']\n['postmaster@collab.sakaiproject.org']\n['200801041403.m04E3psW006926@nakamura.uits.iupui.edu']\n['source@collab.sakaiproject.org']\n['source@collab.sakaiproject.org']\n['source@collab.sakaiproject.org']\n['apache@localhost']\n['source@collab.sakaiproject.org']\n['gopal.ramasammycook@gmail.com']\n['source@collab.sakaiproject.org']\n['gopal.ramasammycook@gmail.com']\n['gopal.ramasammycook@gmail.com']\n['david.horwitz@uct.ac.za']\n['postmaster@collab.sakaiproject.org']\n['200801041200.m04C0gfK006793@nakamura.uits.iupui.edu']\n['source@collab.sakaiproject.org']\n['source@collab.sakaiproject.org']\n['source@collab.sakaiproject.org']\n['apache@localhost']\n['source@collab.sakaiproject.org']\n['david.horwitz@uct.ac.za']\n['source@collab.sakaiproject.org']\n['david.horwitz@uct.ac.za']\n['david.horwitz@uct.ac.za']\n['david.horwitz@uct.ac.za']\n['dhorwitz@david-horwitz-6:~/branchManagemnt/sakai_2-5-x']\n['dhorwitz@david-horwitz-6:~/branchManagemnt/sakai_2-5-x']\n['david.horwitz@uct.ac.za']\n['postmaster@collab.sakaiproject.org']\n['200801041106.m04B6lK3006677@nakamura.uits.iupui.edu']\n['source@collab.sakaiproject.org']\n['source@collab.sakaiproject.org']\n['source@collab.sakaiproject.org']\n['apache@localhost']\n['source@collab.sakaiproject.org']\n['david.horwitz@uct.ac.za']\n['source@collab.sakaiproject.org']\n['david.horwitz@uct.ac.za']\n['david.horwitz@uct.ac.za']\n['david.horwitz@uct.ac.za']\n['postmaster@collab.sakaiproject.org']\n['200801040947.m049lUxo006517@nakamura.uits.iupui.edu']\n['source@collab.sakaiproject.org']\n['source@collab.sakaiproject.org']\n['source@collab.sakaiproject.org']\n['apache@localhost']\n['source@collab.sakaiproject.org']\n['david.horwitz@uct.ac.za']\n['source@collab.sakaiproject.org']\n['david.horwitz@uct.ac.za']\n['david.horwitz@uct.ac.za']\n['josrodri@iupui.edu']\n['dhorwitz@david-horwitz-6:~/branchManagemnt/sakai_2-5-x']\n['david.horwitz@uct.ac.za']\n['postmaster@collab.sakaiproject.org']\n['200801040932.m049W2i5006493@nakamura.uits.iupui.edu']\n['source@collab.sakaiproject.org']\n['source@collab.sakaiproject.org']\n['source@collab.sakaiproject.org']\n['apache@localhost']\n['source@collab.sakaiproject.org']\n['david.horwitz@uct.ac.za']\n['source@collab.sakaiproject.org']\n['david.horwitz@uct.ac.za']\n['david.horwitz@uct.ac.za']\n['josrodri@iupui.edu']\n['dhorwitz@david-horwitz-6:~/branchManagemnt/sakai_2-5-x']\n['stephen.marquard@uct.ac.za']\n['postmaster@collab.sakaiproject.org']\n['200801040905.m0495rWB006420@nakamura.uits.iupui.edu']\n['source@collab.sakaiproject.org']\n['source@collab.sakaiproject.org']\n['source@collab.sakaiproject.org']\n['apache@localhost']\n['source@collab.sakaiproject.org']\n['stephen.marquard@uct.ac.za']\n['source@collab.sakaiproject.org']\n['stephen.marquard@uct.ac.za']\n['stephen.marquard@uct.ac.za']\n['louis@media.berkeley.edu']\n['postmaster@collab.sakaiproject.org']\n['200801040023.m040NpCc005473@nakamura.uits.iupui.edu']\n['source@collab.sakaiproject.org']\n['source@collab.sakaiproject.org']\n['source@collab.sakaiproject.org']\n['apache@localhost']\n['source@collab.sakaiproject.org']\n['louis@media.berkeley.edu']\n['source@collab.sakaiproject.org']\n['louis@media.berkeley.edu']\n['louis@media.berkeley.edu']\n['louis@media.berkeley.edu']\n['postmaster@collab.sakaiproject.org']\n['200801032216.m03MGhDa005292@nakamura.uits.iupui.edu']\n['source@collab.sakaiproject.org']\n['source@collab.sakaiproject.org']\n['source@collab.sakaiproject.org']\n['apache@localhost']\n['source@collab.sakaiproject.org']\n['louis@media.berkeley.edu']\n['source@collab.sakaiproject.org']\n['louis@media.berkeley.edu']\n['louis@media.berkeley.edu']\n['ray@media.berkeley.edu']\n['postmaster@collab.sakaiproject.org']\n['200801032205.m03M5Ea7005273@nakamura.uits.iupui.edu']\n['source@collab.sakaiproject.org']\n['source@collab.sakaiproject.org']\n['source@collab.sakaiproject.org']\n['apache@localhost']\n['source@collab.sakaiproject.org']\n['ray@media.berkeley.edu']\n['source@collab.sakaiproject.org']\n['ray@media.berkeley.edu']\n['ray@media.berkeley.edu']\n['cwen@iupui.edu']\n['postmaster@collab.sakaiproject.org']\n['200801032133.m03LX3gG005191@nakamura.uits.iupui.edu']\n['source@collab.sakaiproject.org']\n['source@collab.sakaiproject.org']\n['source@collab.sakaiproject.org']\n['apache@localhost']\n['source@collab.sakaiproject.org']\n['cwen@iupui.edu']\n['source@collab.sakaiproject.org']\n['cwen@iupui.edu']\n['cwen@iupui.edu']\n['cwen@iupui.edu']\n['postmaster@collab.sakaiproject.org']\n['200801032127.m03LRUqH005177@nakamura.uits.iupui.edu']\n['source@collab.sakaiproject.org']\n['source@collab.sakaiproject.org']\n['source@collab.sakaiproject.org']\n['apache@localhost']\n['source@collab.sakaiproject.org']\n['cwen@iupui.edu']\n['source@collab.sakaiproject.org']\n['cwen@iupui.edu']\n['cwen@iupui.edu']\n['wagnermr@iupui.edu']\n['cwen@iupui.edu']\n['postmaster@collab.sakaiproject.org']\n['200801032122.m03LMFo4005148@nakamura.uits.iupui.edu']\n['source@collab.sakaiproject.org']\n['source@collab.sakaiproject.org']\n['source@collab.sakaiproject.org']\n['apache@localhost']\n['source@collab.sakaiproject.org']\n['cwen@iupui.edu']\n['source@collab.sakaiproject.org']\n['cwen@iupui.edu']\n['cwen@iupui.edu']\n['wagnermr@iupui.edu']\n"
    }
   ],
   "source": [
    "# Search for lines that have an at sign between characters\n",
    "# The characters must be a letter or number\n",
    "import re\n",
    "hand = open('data/mbox-short.txt')\n",
    "for line in hand:\n",
    "    line = line.rstrip()\n",
    "    x = re.findall('[a-zA-Z0-9]\\S+@\\S+[a-zA-Z]', line)\n",
    "    if len(x) > 0:\n",
    "        print(x)\n",
    "\n",
    "# Code: http://www.py4e.com/code3/re07.py"
   ]
  }
 ],
 "metadata": {
  "language_info": {
   "codemirror_mode": {
    "name": "ipython",
    "version": 3
   },
   "file_extension": ".py",
   "mimetype": "text/x-python",
   "name": "python",
   "nbconvert_exporter": "python",
   "pygments_lexer": "ipython3",
   "version": "3.8.2-final"
  },
  "orig_nbformat": 2,
  "kernelspec": {
   "name": "python38264bite8a62a2229d243daadebafcdf5c73165",
   "display_name": "Python 3.8.2 64-bit"
  }
 },
 "nbformat": 4,
 "nbformat_minor": 2
}