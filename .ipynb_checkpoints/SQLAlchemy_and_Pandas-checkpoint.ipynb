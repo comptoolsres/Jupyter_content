{
 "cells": [
  {
   "cell_type": "markdown",
   "metadata": {},
   "source": [
    "# Pandas and SQLAlchemy\n",
    "\n",
    "Pandas has several functions to work with databases via sqlalchemy. \n",
    "\n",
    "This can be an easier way to get data from a database and to pass data into a database.\n",
    "\n",
    "Let's start with loading the `world.sqlite` database we've been using."
   ]
  },
  {
   "cell_type": "code",
   "execution_count": 14,
   "metadata": {},
   "outputs": [],
   "source": [
    "#!/usr/bin/env python\n",
    "from sqlalchemy import create_engine\n",
    "from sqlalchemy import MetaData\n",
    "from sqlalchemy import Table, Column\n",
    "from sqlalchemy import Integer, String\n",
    "from sqlalchemy import sql, select, join, desc\n",
    "\n",
    "# Create a Engine object which is our handle into the database.\n",
    "engine = create_engine('sqlite:////blue/bsc4452/share/Class_Files/data/world.sqlite')\n",
    "\n",
    "# Connect to the database\n",
    "conn = engine.connect()\n",
    "\n",
    "# Read the metadata from the existing database.\n",
    "#  Since the database already exists and has tables defined, we can create Python objects based on these automatically.\n",
    "DBInfo=MetaData(engine)"
   ]
  },
  {
   "cell_type": "markdown",
   "metadata": {},
   "source": [
    "The cell below is also from the [SQLAlchemy notebook](SQLAlchemy.ipynb) and creates the `city` object with the table metadata, creates the `query` variable. This cell shows how you would execute the query with SQLAlchemy, put the result into the `result` variable and then loops through that printing each row. The last line was added to show the the `query` is of type `<class 'sqlalchemy.sql.selectable.Select'>`, or in words a **SQLAlchemy Selectable**, one of the options for the `pandas.read_sql` function we'll look at next."
   ]
  },
  {
   "cell_type": "code",
   "execution_count": 6,
   "metadata": {},
   "outputs": [
    {
     "name": "stdout",
     "output_type": "stream",
     "text": [
      "(1, 'Kabul', 1780000)\n",
      "(2, 'Qandahar', 237500)\n",
      "(3, 'Herat', 186800)\n",
      "(4, 'Mazar-e-Sharif', 127800)\n",
      "(6, 'Rotterdam', 593321)\n",
      "(7, 'Haag', 440900)\n",
      "(8, 'Utrecht', 234323)\n",
      "(9, 'Eindhoven', 201843)\n",
      "(10, 'Tilburg', 193238)\n",
      "(11, 'Groningen', 172701)\n",
      "<class 'sqlalchemy.sql.selectable.Select'>\n"
     ]
    }
   ],
   "source": [
    "# Auto-create the city object based on the metadata read into the DBInfo.\n",
    "city=Table('city', DBInfo, autoload=True)\n",
    "\n",
    "# Mirroring this command: SELECT Id, Name, Population FROM city LIMIT 10;\n",
    "query=select([city.c.ID, city.c.Name, city.c.Population]).limit(10)\n",
    "result = conn.execute(query)\n",
    "for row in result:\n",
    "    print(row)\n",
    "    \n",
    "print(type(query))"
   ]
  },
  {
   "cell_type": "markdown",
   "metadata": {},
   "source": [
    "## Reading SQL query results into a Pandas data frame\n",
    "\n",
    "Here's how we can put the result into a pandas data frame. The Selectable and connection are the required arguments for `read_sql`. In this example, we also add that the ID column should be used for the index of the data frame."
   ]
  },
  {
   "cell_type": "code",
   "execution_count": 7,
   "metadata": {},
   "outputs": [
    {
     "data": {
      "text/html": [
       "<div>\n",
       "<style scoped>\n",
       "    .dataframe tbody tr th:only-of-type {\n",
       "        vertical-align: middle;\n",
       "    }\n",
       "\n",
       "    .dataframe tbody tr th {\n",
       "        vertical-align: top;\n",
       "    }\n",
       "\n",
       "    .dataframe thead th {\n",
       "        text-align: right;\n",
       "    }\n",
       "</style>\n",
       "<table border=\"1\" class=\"dataframe\">\n",
       "  <thead>\n",
       "    <tr style=\"text-align: right;\">\n",
       "      <th></th>\n",
       "      <th>Name</th>\n",
       "      <th>Population</th>\n",
       "    </tr>\n",
       "    <tr>\n",
       "      <th>ID</th>\n",
       "      <th></th>\n",
       "      <th></th>\n",
       "    </tr>\n",
       "  </thead>\n",
       "  <tbody>\n",
       "    <tr>\n",
       "      <th>1</th>\n",
       "      <td>Kabul</td>\n",
       "      <td>1780000</td>\n",
       "    </tr>\n",
       "    <tr>\n",
       "      <th>2</th>\n",
       "      <td>Qandahar</td>\n",
       "      <td>237500</td>\n",
       "    </tr>\n",
       "    <tr>\n",
       "      <th>3</th>\n",
       "      <td>Herat</td>\n",
       "      <td>186800</td>\n",
       "    </tr>\n",
       "    <tr>\n",
       "      <th>4</th>\n",
       "      <td>Mazar-e-Sharif</td>\n",
       "      <td>127800</td>\n",
       "    </tr>\n",
       "    <tr>\n",
       "      <th>6</th>\n",
       "      <td>Rotterdam</td>\n",
       "      <td>593321</td>\n",
       "    </tr>\n",
       "  </tbody>\n",
       "</table>\n",
       "</div>"
      ],
      "text/plain": [
       "              Name  Population\n",
       "ID                            \n",
       "1            Kabul     1780000\n",
       "2         Qandahar      237500\n",
       "3            Herat      186800\n",
       "4   Mazar-e-Sharif      127800\n",
       "6        Rotterdam      593321"
      ]
     },
     "execution_count": 7,
     "metadata": {},
     "output_type": "execute_result"
    }
   ],
   "source": [
    "import pandas as pd\n",
    "\n",
    "df=pd.read_sql(query, conn, index_col='ID')\n",
    "\n",
    "df.head()"
   ]
  },
  {
   "cell_type": "markdown",
   "metadata": {},
   "source": [
    "## Writing a Pandas data frame to a database\n",
    "\n",
    "In the next example, we'll use the `shipping_tables.xlsx` table that we used in the [Reading poorly structured Excel files with Pandas notebook](Pandas_messy_data.ipynb).\n",
    "\n",
    "First, we'll get the data into the dataframes"
   ]
  },
  {
   "cell_type": "code",
   "execution_count": 9,
   "metadata": {},
   "outputs": [
    {
     "data": {
      "text/html": [
       "<div>\n",
       "<style scoped>\n",
       "    .dataframe tbody tr th:only-of-type {\n",
       "        vertical-align: middle;\n",
       "    }\n",
       "\n",
       "    .dataframe tbody tr th {\n",
       "        vertical-align: top;\n",
       "    }\n",
       "\n",
       "    .dataframe thead th {\n",
       "        text-align: right;\n",
       "    }\n",
       "</style>\n",
       "<table border=\"1\" class=\"dataframe\">\n",
       "  <thead>\n",
       "    <tr style=\"text-align: right;\">\n",
       "      <th></th>\n",
       "      <th>order id</th>\n",
       "      <th>order date</th>\n",
       "      <th>state</th>\n",
       "      <th>priority</th>\n",
       "      <th>item_type</th>\n",
       "    </tr>\n",
       "  </thead>\n",
       "  <tbody>\n",
       "    <tr>\n",
       "      <th>0</th>\n",
       "      <td>669165933</td>\n",
       "      <td>2019-01-03</td>\n",
       "      <td>MN</td>\n",
       "      <td>2-day</td>\n",
       "      <td>Baby Food</td>\n",
       "    </tr>\n",
       "    <tr>\n",
       "      <th>1</th>\n",
       "      <td>963881480</td>\n",
       "      <td>2019-01-04</td>\n",
       "      <td>WI</td>\n",
       "      <td>next-day</td>\n",
       "      <td>Cereal</td>\n",
       "    </tr>\n",
       "    <tr>\n",
       "      <th>2</th>\n",
       "      <td>341417157</td>\n",
       "      <td>2019-01-05</td>\n",
       "      <td>TX</td>\n",
       "      <td>2-day</td>\n",
       "      <td>Office Supplies</td>\n",
       "    </tr>\n",
       "    <tr>\n",
       "      <th>3</th>\n",
       "      <td>514321792</td>\n",
       "      <td>2019-01-06</td>\n",
       "      <td>CA</td>\n",
       "      <td>next-day</td>\n",
       "      <td>Office Supplies</td>\n",
       "    </tr>\n",
       "    <tr>\n",
       "      <th>4</th>\n",
       "      <td>115456712</td>\n",
       "      <td>2019-01-07</td>\n",
       "      <td>CA</td>\n",
       "      <td>2-day</td>\n",
       "      <td>Office Supplies</td>\n",
       "    </tr>\n",
       "  </tbody>\n",
       "</table>\n",
       "</div>"
      ],
      "text/plain": [
       "    order id order date state  priority        item_type\n",
       "0  669165933 2019-01-03    MN     2-day        Baby Food\n",
       "1  963881480 2019-01-04    WI  next-day           Cereal\n",
       "2  341417157 2019-01-05    TX     2-day  Office Supplies\n",
       "3  514321792 2019-01-06    CA  next-day  Office Supplies\n",
       "4  115456712 2019-01-07    CA     2-day  Office Supplies"
      ]
     },
     "execution_count": 9,
     "metadata": {},
     "output_type": "execute_result"
    }
   ],
   "source": [
    "orders = pd.read_excel('shipping_tables.xlsx', header=1, usecols='B:F')\n",
    "orders.head()"
   ]
  },
  {
   "cell_type": "code",
   "execution_count": 10,
   "metadata": {},
   "outputs": [
    {
     "data": {
      "text/html": [
       "<div>\n",
       "<style scoped>\n",
       "    .dataframe tbody tr th:only-of-type {\n",
       "        vertical-align: middle;\n",
       "    }\n",
       "\n",
       "    .dataframe tbody tr th {\n",
       "        vertical-align: top;\n",
       "    }\n",
       "\n",
       "    .dataframe thead th {\n",
       "        text-align: right;\n",
       "    }\n",
       "</style>\n",
       "<table border=\"1\" class=\"dataframe\">\n",
       "  <thead>\n",
       "    <tr style=\"text-align: right;\">\n",
       "      <th></th>\n",
       "      <th>item_type</th>\n",
       "      <th>priority</th>\n",
       "      <th>shipping_cost</th>\n",
       "    </tr>\n",
       "  </thead>\n",
       "  <tbody>\n",
       "    <tr>\n",
       "      <th>0</th>\n",
       "      <td>Baby Food</td>\n",
       "      <td>2-day</td>\n",
       "      <td>5</td>\n",
       "    </tr>\n",
       "    <tr>\n",
       "      <th>1</th>\n",
       "      <td>Baby Food</td>\n",
       "      <td>next-day</td>\n",
       "      <td>7</td>\n",
       "    </tr>\n",
       "    <tr>\n",
       "      <th>2</th>\n",
       "      <td>Cereal</td>\n",
       "      <td>2-day</td>\n",
       "      <td>8</td>\n",
       "    </tr>\n",
       "    <tr>\n",
       "      <th>3</th>\n",
       "      <td>Cereal</td>\n",
       "      <td>next-day</td>\n",
       "      <td>11</td>\n",
       "    </tr>\n",
       "    <tr>\n",
       "      <th>4</th>\n",
       "      <td>Fruit</td>\n",
       "      <td>2-day</td>\n",
       "      <td>5</td>\n",
       "    </tr>\n",
       "  </tbody>\n",
       "</table>\n",
       "</div>"
      ],
      "text/plain": [
       "   item_type  priority  shipping_cost\n",
       "0  Baby Food     2-day              5\n",
       "1  Baby Food  next-day              7\n",
       "2     Cereal     2-day              8\n",
       "3     Cereal  next-day             11\n",
       "4      Fruit     2-day              5"
      ]
     },
     "execution_count": 10,
     "metadata": {},
     "output_type": "execute_result"
    }
   ],
   "source": [
    "from openpyxl import load_workbook\n",
    "wb = load_workbook(filename = 'shipping_tables.xlsx') \n",
    "sheet = wb['shipping_rates']\n",
    "lookup_table = sheet.tables['ship_cost']\n",
    "data = sheet[lookup_table.ref]\n",
    "rows_list = []\n",
    "for row in data:\n",
    "    cols = []\n",
    "    for col in row:\n",
    "        cols.append(col.value)\n",
    "    rows_list.append(cols)\n",
    "ship_rates = pd.DataFrame(data=rows_list[1:], index=None, columns=rows_list[0])\n",
    "ship_rates.head()"
   ]
  },
  {
   "cell_type": "markdown",
   "metadata": {},
   "source": [
    "Now we have two Pandas data frames and can create a database and add the data."
   ]
  },
  {
   "cell_type": "code",
   "execution_count": 25,
   "metadata": {},
   "outputs": [
    {
     "data": {
      "text/plain": [
       "[(0, 669165933, '2019-01-03 00:00:00.000000', 'MN', '2-day', 'Baby Food'),\n",
       " (1, 963881480, '2019-01-04 00:00:00.000000', 'WI', 'next-day', 'Cereal'),\n",
       " (2, 341417157, '2019-01-05 00:00:00.000000', 'TX', '2-day', 'Office Supplies'),\n",
       " (3, 514321792, '2019-01-06 00:00:00.000000', 'CA', 'next-day', 'Office Supplies'),\n",
       " (4, 115456712, '2019-01-07 00:00:00.000000', 'CA', '2-day', 'Office Supplies'),\n",
       " (5, 547995746, '2019-01-08 00:00:00.000000', 'NY', 'next-day', 'Cereal'),\n",
       " (6, 135425221, '2019-01-09 00:00:00.000000', 'NY', 'next-day', 'Cereal'),\n",
       " (7, 871543967, '2019-01-10 00:00:00.000000', 'TX', 'next-day', 'Fruit'),\n",
       " (8, 770463311, '2019-01-11 00:00:00.000000', 'FL', '2-day', 'Baby Food')]"
      ]
     },
     "execution_count": 25,
     "metadata": {},
     "output_type": "execute_result"
    }
   ],
   "source": [
    "# Create the database and establish the connection.\n",
    "engine = create_engine('sqlite:///shipping.sqlite')\n",
    "conn = engine.connect()\n",
    "\n",
    "# Use the `to_sql` function to send the data frames to the database.\n",
    "orders.to_sql('orders', conn)\n",
    "ship_rates.to_sql('ship_rates', conn)\n",
    "\n",
    "# Run a raw engine.execute with SQL to see that the data are there\n",
    "# We could create objects, read the metadata, etc. but seems excessive...\n",
    "engine.execute(\"SELECT * FROM orders\").fetchall()"
   ]
  },
  {
   "cell_type": "code",
   "execution_count": null,
   "metadata": {},
   "outputs": [],
   "source": []
  }
 ],
 "metadata": {
  "kernelspec": {
   "display_name": "Python 3.8 (full)",
   "language": "python",
   "name": "python3-3.8-ufrc"
  },
  "language_info": {
   "codemirror_mode": {
    "name": "ipython",
    "version": 3
   },
   "file_extension": ".py",
   "mimetype": "text/x-python",
   "name": "python",
   "nbconvert_exporter": "python",
   "pygments_lexer": "ipython3",
   "version": "3.8.5"
  }
 },
 "nbformat": 4,
 "nbformat_minor": 4
}
