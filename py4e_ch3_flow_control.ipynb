{
 "cells": [
  {
   "cell_type": "markdown",
   "metadata": {},
   "source": [
    "# Flow control: *if*\n",
    "\n",
    "As I mentioned in the Bash section, `if` statements are fundemental to just about every programming language. Syntax is all that changes...\n",
    "\n",
    "Python emphasizes readability. It has always been the case the people were *told* to indent code to make it more readable, so the developers of Python took that a step further and force indentation, making indentation level, rather than brakets or \"if ... fi\", \"do ... done\", how the bondaries of the statement are defined. "
   ]
  },
  {
   "cell_type": "code",
   "execution_count": 1,
   "metadata": {
    "tags": []
   },
   "outputs": [
    {
     "output_type": "stream",
     "name": "stdout",
     "text": "x is positive\n"
    }
   ],
   "source": [
    "x=5\n",
    "if x > 0 :\n",
    "    print (\"x is positive\")"
   ]
  },
  {
   "cell_type": "code",
   "execution_count": 2,
   "metadata": {
    "tags": []
   },
   "outputs": [
    {
     "output_type": "stream",
     "name": "stdout",
     "text": "x is odd\n"
    }
   ],
   "source": [
    "# The % is the modulus operator, which gets the remainder of a division.\n",
    "\n",
    "if x%2 == 0 :\n",
    "    print('x is even')\n",
    "else :\n",
    "    print('x is odd')"
   ]
  },
  {
   "cell_type": "code",
   "execution_count": 3,
   "metadata": {
    "tags": []
   },
   "outputs": [
    {
     "output_type": "stream",
     "name": "stdout",
     "text": "x is less than y\n"
    }
   ],
   "source": [
    "x=5\n",
    "y=10\n",
    "\n",
    "if x < y:\n",
    "    print('x is less than y')\n",
    "elif x > y:\n",
    "    print('x is greater than y')\n",
    "else:\n",
    "    print('x and y are equal')"
   ]
  },
  {
   "cell_type": "markdown",
   "metadata": {},
   "source": [
    "You do not need to have an ending `else` (p.34):"
   ]
  },
  {
   "cell_type": "code",
   "execution_count": 4,
   "metadata": {
    "tags": []
   },
   "outputs": [
    {
     "output_type": "stream",
     "name": "stdout",
     "text": "Moving on\n"
    }
   ],
   "source": [
    "choice = \"d\"\n",
    "if choice == 'a': \n",
    "    print('Bad guess')\n",
    "elif choice == 'b': \n",
    "    print('Good guess')\n",
    "elif choice == 'c':\n",
    "    print('Close, but not correct')\n",
    "\n",
    "print (\"Moving on\")"
   ]
  },
  {
   "cell_type": "markdown",
   "metadata": {},
   "source": [
    "p. 35: **3.5 Chained conditionals**: This statement bears emphasizing:\n",
    "\n",
    "> \"If one of them is true, the corresponding branch executes, and the statement\n",
    "ends. Even if more than one condition is true, only the first true branch executes.\"\n",
    "\n",
    "Keep this in mind when arranging the order of tests.\n",
    "\n",
    "p. 36: **3.6: Nested Conditionals**: Generally try to avoid complex nestings.\n",
    "\n"
   ]
  },
  {
   "cell_type": "code",
   "execution_count": 5,
   "metadata": {
    "tags": []
   },
   "outputs": [
    {
     "output_type": "stream",
     "name": "stdout",
     "text": "x is less than y\n"
    }
   ],
   "source": [
    "if x == y:\n",
    "    print('x and y are equal')\n",
    "else:\n",
    "    if x < y:\n",
    "        print('x is less than y') \n",
    "    else:\n",
    "        print('x is greater than y')\n"
   ]
  },
  {
   "cell_type": "markdown",
   "metadata": {},
   "source": [
    "# 3.7 Catching exceptions using try and except\n",
    "\n",
    "I **highly** recomend adding try and except liberally to your code. It is far better to fail gracefully with meaningful error messages or options to continue than to crash and burn with Python errors that sometimes make little sense."
   ]
  },
  {
   "cell_type": "code",
   "execution_count": 6,
   "metadata": {
    "tags": []
   },
   "outputs": [
    {
     "output_type": "stream",
     "name": "stdout",
     "text": "0.0\n"
    }
   ],
   "source": [
    "inp = input('Enter Fahrenheit Temperature:') \n",
    "try:\n",
    "    fahr = float(inp)\n",
    "    cel = (fahr - 32.0) * 5.0 / 9.0\n",
    "    print(cel)\n",
    "except:\n",
    "    print('Please enter a number')"
   ]
  },
  {
   "cell_type": "markdown",
   "metadata": {},
   "source": [
    "## Recovering from exceptions\n",
    "\n",
    "Not covered at this point in the text, is one way to try again if the user doesn't enter a number. `while True:` is used a lot and True is *always* True. It may seem odd to use it as a flow control method. But, if we add `break` we can break out of the `while` loop. "
   ]
  },
  {
   "cell_type": "code",
   "execution_count": 7,
   "metadata": {
    "tags": []
   },
   "outputs": [
    {
     "output_type": "stream",
     "name": "stdout",
     "text": "0.0\nDone\n"
    }
   ],
   "source": [
    "while True:\n",
    "    inp = input('Enter Fahrenheit Temperature:') \n",
    "    try:\n",
    "        fahr = float(inp)\n",
    "        cel = (fahr - 32.0) * 5.0 / 9.0\n",
    "        print(cel)\n",
    "        break  # Add the break to exit while after success. \n",
    "    except:\n",
    "        print('Please enter a number')\n",
    "\n",
    "print('Done')"
   ]
  },
  {
   "cell_type": "markdown",
   "metadata": {},
   "source": [
    "# Flow control: *assert*\n",
    "\n",
    "The *assert* operator is not covered in the text, but I think it's important and this seems like a good place to introduce it.\n",
    "\n",
    "Assert is kind of like a simplified if statement and can be used to help catch bugs in your program.\n",
    "\n",
    "Here's an example, but don't worry about the code too much. It adds quite a bit we haven't seen. \n",
    "\n",
    "  \n"
   ]
  },
  {
   "cell_type": "code",
   "execution_count": 8,
   "metadata": {
    "tags": []
   },
   "outputs": [
    {
     "output_type": "stream",
     "name": "stdout",
     "text": "Welcome human!\n"
    }
   ],
   "source": [
    "# Simple captcha\n",
    "\n",
    "Answer = 5\n",
    "\n",
    "while True:\n",
    "    inp = input('What it 2 + 3:')\n",
    "    try:\n",
    "        int(inp) # Make sure the user entered a number\n",
    "        break\n",
    "    except:\n",
    "        print('Please enter a number')\n",
    "\n",
    "assert int(inp) == Answer, \"Are you sure you are human?\" # We've determined we have a numeric answer, now we can check that it is correct\n",
    "\n",
    "print('Welcome human!')"
   ]
  },
  {
   "cell_type": "markdown",
   "metadata": {},
   "source": [
    "You can use assert statements in your code to make sure conditions are met. This can make debugging much easier as it will clue you into where something is not going the way you expect it to rather than just keeping going with bad data."
   ]
  },
  {
   "cell_type": "markdown",
   "metadata": {},
   "source": [
    "# Flow control: *while* and *for*\n",
    "\n",
    "We will come back to this later, but just like in Bash, Python has *while* and *for* loops."
   ]
  },
  {
   "cell_type": "code",
   "execution_count": 9,
   "metadata": {
    "tags": []
   },
   "outputs": [
    {
     "output_type": "stream",
     "name": "stdout",
     "text": "5\n4\n3\n2\n1\nBlastoff!\n"
    }
   ],
   "source": [
    "# From section 5.2, p. 58 of PDF.\n",
    "\n",
    "n=5\n",
    "while n > 0:\n",
    "    print(n)\n",
    "    n=n-1 \n",
    "\n",
    "print('Blastoff!')"
   ]
  },
  {
   "cell_type": "code",
   "execution_count": 10,
   "metadata": {
    "tags": []
   },
   "outputs": [
    {
     "output_type": "stream",
     "name": "stdout",
     "text": "Happy New Year: Joseph\nHappy New Year: Glenn\nHappy New Year: Sally\nDone!\n"
    }
   ],
   "source": [
    "# From section 5.6, p. 60 of PDF.\n",
    "\n",
    "friends = ['Joseph', 'Glenn', 'Sally'] \n",
    "for friend in friends:\n",
    "    print('Happy New Year:', friend)\n",
    "print('Done!')"
   ]
  }
 ],
 "metadata": {
  "kernelspec": {
   "name": "Python 3.8.5 64-bit",
   "display_name": "Python 3.8.5 64-bit",
   "metadata": {
    "interpreter": {
     "hash": "1baa965d5efe3ac65b79dfc60c0d706280b1da80fedb7760faf2759126c4f253"
    }
   }
  },
  "language_info": {
   "codemirror_mode": {
    "name": "ipython",
    "version": 3
   },
   "file_extension": ".py",
   "mimetype": "text/x-python",
   "name": "python",
   "nbconvert_exporter": "python",
   "pygments_lexer": "ipython3",
   "version": "3.8.5-final"
  }
 },
 "nbformat": 4,
 "nbformat_minor": 2
}