{
 "cells": [
  {
   "cell_type": "markdown",
   "metadata": {},
   "source": [
    "# SQLAlchemy\n",
    "\n",
    "We'll start off using the world.sqlite database again.\n",
    "\n",
    "Rather than import all of sqlalchemy and then need to preface each method with the module name, we're importing a lot of individual methods."
   ]
  },
  {
   "cell_type": "code",
   "execution_count": 1,
   "metadata": {},
   "outputs": [],
   "source": [
    "#!/usr/bin/env python\n",
    "from sqlalchemy import create_engine\n",
    "from sqlalchemy import MetaData\n",
    "from sqlalchemy import Table, Column\n",
    "from sqlalchemy import Integer, String\n",
    "from sqlalchemy import sql, select, join, desc\n",
    "\n",
    "# Create a Engine object which is our handle into the database.\n",
    "engine = create_engine('sqlite:///../world.sqlite')\n",
    "\n",
    "# Connect to the database\n",
    "conn = engine.connect()\n",
    "\n",
    "# Read the metadata from the existing database.\n",
    "#  Since the database already exists and has tables defined, we can create Python objects based on these automatically.\n",
    "DBInfo=MetaData(engine)"
   ]
  },
  {
   "cell_type": "code",
   "execution_count": 2,
   "metadata": {},
   "outputs": [
    {
     "name": "stdout",
     "output_type": "stream",
     "text": [
      "(1, 'Kabul', 1780000)\n",
      "(2, 'Qandahar', 237500)\n",
      "(3, 'Herat', 186800)\n",
      "(4, 'Mazar-e-Sharif', 127800)\n",
      "(6, 'Rotterdam', 593321)\n",
      "(7, 'Haag', 440900)\n",
      "(8, 'Utrecht', 234323)\n",
      "(9, 'Eindhoven', 201843)\n",
      "(10, 'Tilburg', 193238)\n",
      "(11, 'Groningen', 172701)\n"
     ]
    }
   ],
   "source": [
    "# Auto-create the city object basedon the metadata read into the DBInfo.\n",
    "city=Table('city', DBInfo, autoload=True)\n",
    "\n",
    "# Mirroring this command: SELECT Id, Name, Population FROM city LIMIT 10;\n",
    "query=select([city.c.ID, city.c.Name, city.c.Population]).limit(10)\n",
    "result = conn.execute(query)\n",
    "for row in result:\n",
    "    print(row)"
   ]
  },
  {
   "cell_type": "code",
   "execution_count": 3,
   "metadata": {},
   "outputs": [
    {
     "name": "stdout",
     "output_type": "stream",
     "text": [
      "(206, 'S�o Paulo', 9968485)\n",
      "(207, 'Rio de Janeiro', 5598953)\n",
      "(456, 'London', 7285000)\n",
      "(608, 'Cairo', 6789479)\n",
      "(939, 'Jakarta', 9604900)\n",
      "(1024, 'Mumbai (Bombay)', 10500000)\n",
      "(1025, 'Delhi', 7206704)\n",
      "(1380, 'Teheran', 6758845)\n",
      "(1532, 'Tokyo', 7980230)\n",
      "(1890, 'Shanghai', 9696300)\n",
      "(1891, 'Peking', 7472000)\n",
      "(1892, 'Chongqing', 6351600)\n",
      "(1893, 'Tianjin', 5286800)\n",
      "(2257, 'Santaf� de Bogot�', 6260862)\n",
      "(2298, 'Kinshasa', 5064000)\n",
      "(2331, 'Seoul', 9981619)\n",
      "(2515, 'Ciudad de M�xico', 8591309)\n",
      "(2822, 'Karachi', 9269265)\n",
      "(2823, 'Lahore', 5063499)\n",
      "(2890, 'Lima', 6464693)\n",
      "(3320, 'Bangkok', 6320174)\n",
      "(3357, 'Istanbul', 8787958)\n",
      "(3580, 'Moscow', 8389200)\n",
      "(3793, 'New York', 8008278)\n"
     ]
    }
   ],
   "source": [
    "# Mirroring this command: SELECT Id, Name, Population FROM city WHERE Population > 5000000;\n",
    "\n",
    "query=select([city.c.ID, city.c.Name, city.c.Population]).where(city.c.Population > 5000000)\n",
    "result = conn.execute(query)\n",
    "for row in result:\n",
    "    print(row)"
   ]
  },
  {
   "cell_type": "code",
   "execution_count": 5,
   "metadata": {},
   "outputs": [
    {
     "name": "stdout",
     "output_type": "stream",
     "text": [
      "(1024, 'Mumbai (Bombay)', 10500000)\n",
      "(2331, 'Seoul', 9981619)\n",
      "(206, 'S�o Paulo', 9968485)\n",
      "(1890, 'Shanghai', 9696300)\n",
      "(939, 'Jakarta', 9604900)\n",
      "(2822, 'Karachi', 9269265)\n",
      "(3357, 'Istanbul', 8787958)\n",
      "(2515, 'Ciudad de M�xico', 8591309)\n",
      "(3580, 'Moscow', 8389200)\n",
      "(3793, 'New York', 8008278)\n",
      "<sqlalchemy.engine.result.ResultProxy object at 0x2b90eb9fae80>\n"
     ]
    }
   ],
   "source": [
    "# Mirroring this command: \n",
    "#   SELECT Id, Name, Population FROM city WHERE Population > 5000000 ORDER BY Population DESC LIMIT 10;\n",
    "\n",
    "query=select([city.c.ID, city.c.Name, city.c.Population])\\\n",
    "             .where(city.c.Population > 5000000)\\\n",
    "             .order_by(desc(city.c.Population))\\\n",
    "             .limit(10)\n",
    "result = conn.execute(query)\n",
    "for row in result:\n",
    "    print(row)\n",
    "print(result)"
   ]
  },
  {
   "cell_type": "code",
   "execution_count": 7,
   "metadata": {},
   "outputs": [
    {
     "name": "stdout",
     "output_type": "stream",
     "text": [
      "SELECT country.\"Name\", countrylanguage.\"Language\", countrylanguage.\"Percentage\" \n",
      "FROM country JOIN countrylanguage ON country.\"Code\" = countrylanguage.\"CountryCode\" \n",
      "WHERE countrylanguage.\"Language\" = ? ORDER BY countrylanguage.\"Percentage\" DESC\n",
      "('Portugal', 'Portuguese', Decimal('99.0000000000'))\n",
      "('Brazil', 'Portuguese', Decimal('97.5000000000'))\n",
      "('Luxembourg', 'Portuguese', Decimal('13.0000000000'))\n",
      "('Andorra', 'Portuguese', Decimal('10.8000000000'))\n",
      "('Guinea-Bissau', 'Portuguese', Decimal('8.1000000000'))\n",
      "('Paraguay', 'Portuguese', Decimal('3.2000000000'))\n",
      "('Macao', 'Portuguese', Decimal('2.3000000000'))\n",
      "('France', 'Portuguese', Decimal('1.2000000000'))\n",
      "('Canada', 'Portuguese', Decimal('0.7000000000'))\n",
      "('United States', 'Portuguese', Decimal('0.2000000000'))\n",
      "('Cape Verde', 'Portuguese', Decimal('0E-10'))\n",
      "('East Timor', 'Portuguese', Decimal('0E-10'))\n"
     ]
    }
   ],
   "source": [
    "# Mirroring this command:\n",
    "# select Name,Language,Percentage FROM country JOIN countrylanguage ON Code=CountryCode WHERE Language='Portuguese' ORDER BY Percentage DESC;\n",
    "\n",
    "country=Table('country', DBInfo, autoload=True)\n",
    "countrylanguage=Table('countrylanguage', DBInfo, autoload=True)\n",
    "\n",
    "print(select([country.c.Name, countrylanguage.c.Language, countrylanguage.c.Percentage])\\\n",
    "      .select_from(country.join(countrylanguage)).where(countrylanguage.c.Language == 'Portuguese')\\\n",
    "      .order_by(desc(countrylanguage.c.Percentage)))\n",
    "\n",
    "query=(select([country.c.Name, countrylanguage.c.Language, countrylanguage.c.Percentage])\\\n",
    "      .select_from(country.join(countrylanguage)).where(countrylanguage.c.Language == 'Portuguese')\\\n",
    "      .order_by(desc(countrylanguage.c.Percentage)))\n",
    "result = conn.execute(query)\n",
    "for row in result:\n",
    "    print(row)"
   ]
  },
  {
   "cell_type": "markdown",
   "metadata": {},
   "source": [
    "## Inserting\n",
    "\n",
    "I made this following the information on this page: https://docs.sqlalchemy.org/en/13/core/tutorial.html#coretutorial-insert-expressions"
   ]
  },
  {
   "cell_type": "code",
   "execution_count": 8,
   "metadata": {},
   "outputs": [
    {
     "name": "stdout",
     "output_type": "stream",
     "text": [
      "INSERT INTO city (\"ID\", \"Name\", \"CountryCode\", \"District\", \"Population\") VALUES (?, ?, ?, ?, ?)\n"
     ]
    }
   ],
   "source": [
    "print(city.insert())"
   ]
  },
  {
   "cell_type": "code",
   "execution_count": 17,
   "metadata": {},
   "outputs": [
    {
     "name": "stdout",
     "output_type": "stream",
     "text": [
      "INSERT INTO city (\"Name\", \"CountryCode\", \"District\", \"Population\") VALUES (?, ?, ?, ?)\n"
     ]
    }
   ],
   "source": [
    "my_insert=city.insert().values(Name='Gainesville', CountryCode='USA',District='TX',Population=16612)\n",
    "print(my_insert)"
   ]
  },
  {
   "cell_type": "code",
   "execution_count": 19,
   "metadata": {},
   "outputs": [],
   "source": [
    "result = conn.execute(my_insert)\n"
   ]
  },
  {
   "cell_type": "code",
   "execution_count": 20,
   "metadata": {},
   "outputs": [
    {
     "name": "stdout",
     "output_type": "stream",
     "text": [
      "(4053, 'Gainesville', 'Florida', 92291)\n",
      "(5000, 'Gainesville', 'Georgia', 120000)\n",
      "(1234568, 'Gainesville', 'TX', 16612)\n",
      "(1234569, 'Gainesville', 'TX', 16612)\n",
      "(1234570, 'Gainesville', 'TX', 16612)\n"
     ]
    }
   ],
   "source": [
    "query=select([city.c.ID, city.c.Name, city.c.District, city.c.Population]).where(city.c.Name.like('Gain%'))\n",
    "result = conn.execute(query)\n",
    "for row in result:\n",
    "    print(row)"
   ]
  },
  {
   "cell_type": "markdown",
   "metadata": {},
   "source": [
    "## Creating database in SQLAlchemy\n"
   ]
  },
  {
   "cell_type": "code",
   "execution_count": 21,
   "metadata": {},
   "outputs": [],
   "source": [
    "from sqlalchemy import create_engine\n",
    "\n",
    "engine = create_engine('sqlite:///test.sqlite', echo=True)"
   ]
  },
  {
   "cell_type": "code",
   "execution_count": 22,
   "metadata": {},
   "outputs": [],
   "source": [
    "from sqlalchemy import Table, Column, Integer, String, MetaData, ForeignKey\n",
    "\n",
    "metadata = MetaData()\n",
    "\n",
    "users = Table('users', metadata,\n",
    "     Column('id', Integer, primary_key=True),\n",
    "     Column('name', String),\n",
    "     Column('fullname', String),\n",
    "     )\n",
    "\n",
    "addresses = Table('addresses', metadata,\n",
    "    Column('id', Integer, primary_key=True),\n",
    "    Column('user_id', None, ForeignKey('users.id')),\n",
    "    Column('email_address', String, nullable=False)\n",
    "    )"
   ]
  },
  {
   "cell_type": "code",
   "execution_count": 23,
   "metadata": {},
   "outputs": [
    {
     "name": "stdout",
     "output_type": "stream",
     "text": [
      "2020-06-15 16:34:59,436 INFO sqlalchemy.engine.base.Engine SELECT CAST('test plain returns' AS VARCHAR(60)) AS anon_1\n",
      "2020-06-15 16:34:59,437 INFO sqlalchemy.engine.base.Engine ()\n",
      "2020-06-15 16:34:59,439 INFO sqlalchemy.engine.base.Engine SELECT CAST('test unicode returns' AS VARCHAR(60)) AS anon_1\n",
      "2020-06-15 16:34:59,439 INFO sqlalchemy.engine.base.Engine ()\n",
      "2020-06-15 16:34:59,440 INFO sqlalchemy.engine.base.Engine PRAGMA main.table_info(\"users\")\n",
      "2020-06-15 16:34:59,441 INFO sqlalchemy.engine.base.Engine ()\n",
      "2020-06-15 16:34:59,459 INFO sqlalchemy.engine.base.Engine PRAGMA temp.table_info(\"users\")\n",
      "2020-06-15 16:34:59,460 INFO sqlalchemy.engine.base.Engine ()\n",
      "2020-06-15 16:34:59,460 INFO sqlalchemy.engine.base.Engine PRAGMA main.table_info(\"addresses\")\n",
      "2020-06-15 16:34:59,461 INFO sqlalchemy.engine.base.Engine ()\n",
      "2020-06-15 16:34:59,462 INFO sqlalchemy.engine.base.Engine PRAGMA temp.table_info(\"addresses\")\n",
      "2020-06-15 16:34:59,463 INFO sqlalchemy.engine.base.Engine ()\n",
      "2020-06-15 16:34:59,464 INFO sqlalchemy.engine.base.Engine \n",
      "CREATE TABLE users (\n",
      "\tid INTEGER NOT NULL, \n",
      "\tname VARCHAR, \n",
      "\tfullname VARCHAR, \n",
      "\tPRIMARY KEY (id)\n",
      ")\n",
      "\n",
      "\n",
      "2020-06-15 16:34:59,465 INFO sqlalchemy.engine.base.Engine ()\n",
      "2020-06-15 16:35:00,485 INFO sqlalchemy.engine.base.Engine COMMIT\n",
      "2020-06-15 16:35:00,487 INFO sqlalchemy.engine.base.Engine \n",
      "CREATE TABLE addresses (\n",
      "\tid INTEGER NOT NULL, \n",
      "\tuser_id INTEGER, \n",
      "\temail_address VARCHAR NOT NULL, \n",
      "\tPRIMARY KEY (id), \n",
      "\tFOREIGN KEY(user_id) REFERENCES users (id)\n",
      ")\n",
      "\n",
      "\n",
      "2020-06-15 16:35:00,488 INFO sqlalchemy.engine.base.Engine ()\n",
      "2020-06-15 16:35:00,839 INFO sqlalchemy.engine.base.Engine COMMIT\n"
     ]
    }
   ],
   "source": [
    "metadata.create_all(engine)"
   ]
  }
 ],
 "metadata": {
  "kernelspec": {
   "display_name": "Python 3.8 (full)",
   "language": "python",
   "name": "python3-3.8-ufrc"
  },
  "language_info": {
   "codemirror_mode": {
    "name": "ipython",
    "version": 3
   },
   "file_extension": ".py",
   "mimetype": "text/x-python",
   "name": "python",
   "nbconvert_exporter": "python",
   "pygments_lexer": "ipython3",
   "version": "3.8.1"
  }
 },
 "nbformat": 4,
 "nbformat_minor": 4
}
