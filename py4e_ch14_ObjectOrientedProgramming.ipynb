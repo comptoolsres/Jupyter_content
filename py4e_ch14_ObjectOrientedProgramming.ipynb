{
 "metadata": {
  "language_info": {
   "codemirror_mode": {
    "name": "ipython",
    "version": 3
   },
   "file_extension": ".py",
   "mimetype": "text/x-python",
   "name": "python",
   "nbconvert_exporter": "python",
   "pygments_lexer": "ipython3",
   "version": "3.8.6-final"
  },
  "orig_nbformat": 2,
  "kernelspec": {
   "name": "python38264bite8a62a2229d243daadebafcdf5c73165",
   "display_name": "Python 3.8.2 64-bit"
  }
 },
 "nbformat": 4,
 "nbformat_minor": 2,
 "cells": [
  {
   "cell_type": "code",
   "execution_count": null,
   "metadata": {},
   "outputs": [],
   "source": []
  },
  {
   "source": [
    " Ch. 14: Object-Oriented Programming\n",
    "\n",
    "The concept of object-oriented programming is maybe one of the more computer sciency things that we will get into. Object-oriented programming (OOP) has been around since the 1960s and gained popularity most notably in the 1990s.\n",
    "\n",
    "As the Py4E text mentions, OOP provides another mechanism to abstract and compartmentalize the functions of your program, making it easier to work with large programs.\n",
    "\n",
    "One key concept in OOP is the idea of **classes** and **objects**. A class is a definition of a data format and methods that can be performed. For example the string class defines that way text is stored in a string and the methods are methods like the `.upper()`, `.strip()`, etc. that the string class can perform on strings. An instance of a class is called an object. So something like `x='Hello'` create and object, or instance of the string class, called `x` containing the data \"Hello\".  \n",
    "\n",
    "Not that I think we need to talk on the level of a 6-year-old (or that I think the average 6-years-old would actually understand this article), I think Alexander Petkov's article [How to explain object-oriented programming concepts to a 6-year-old](https://www.freecodecamp.org/news/object-oriented-programming-concepts-21bb035f7260/) provides a nice introduction with helpful diagrams eplaining the key concepts of OOP.\n",
    "\n",
    "Some of the key object-oriented programming concepts include:\n",
    "* **Encapsulation**: The concept that binds together the data and the functions that manipulate the data, and that keeps both safe from outside interference and misuse ([Wikipedia](https://en.wikipedia.org/wiki/Object-oriented_programming#Encapsulation)).\n",
    "  * The idea here is that by making an object to hold both the data associated with the object and the functions that act on the data, these data and functions are somewhat isolated from the rest of the code and can be managed as a discrete entity.\n",
    "\n",
    "* **Abstraction**: We've used this throughout the semester, trying to take a big problem, like driving to the grocery store and breaking it down into the component pieces. The parking in a parking space piece doesn't really need to know the details of the stopping at a red light on the way. Similarly, an we don't need to know how a string object takes a string and returns an upper case version of it--we just need to know that it can do this and how to use that method.\n",
    "\n",
    "* **Inheritance**: Objects are often very similar. Earlier we used the idea of parking a car in the parking lot is similar to parking a car at home and how you might use the same code and extend it to add the new features. With inheritance, we can create a class (a child class) that inherits the data definitions and methods from another (parent) class. The child class can then be extended to add new features.\n",
    "\n",
    "* **Polymorphism**: Is the condition of occurrence in different forms. Pylomorphism is used at different levels and we've used polymorphic operators and functions:"
   ],
   "cell_type": "markdown",
   "metadata": {}
  },
  {
   "cell_type": "code",
   "execution_count": 2,
   "metadata": {},
   "outputs": [
    {
     "output_type": "stream",
     "name": "stdout",
     "text": [
      "11\nhi everyone\n"
     ]
    }
   ],
   "source": [
    "# An example of operator polymorphism\n",
    "\n",
    "print(5 + 6)\n",
    "print(\"hi\" + \" everyone\")"
   ]
  },
  {
   "cell_type": "code",
   "execution_count": 3,
   "metadata": {},
   "outputs": [
    {
     "output_type": "stream",
     "name": "stdout",
     "text": [
      "10\n3\n2\n"
     ]
    }
   ],
   "source": [
    "# An example of function polymorphism\n",
    "\n",
    "print(len(\"Go Gators!\"))\n",
    "print(len([1,2,3]))\n",
    "print(len({'Name' : 'Matt', 'Food' : 'Chocolate'})) "
   ]
  },
  {
   "source": [
    "## 14.3 Using Objects"
   ],
   "cell_type": "markdown",
   "metadata": {}
  },
  {
   "cell_type": "code",
   "execution_count": 4,
   "metadata": {},
   "outputs": [
    {
     "output_type": "stream",
     "name": "stdout",
     "text": [
      "chuck\nchuck\nchuck\n"
     ]
    }
   ],
   "source": [
    "stuff = list()\n",
    "stuff.append('python')\n",
    "stuff.append('chuck')\n",
    "stuff.sort()\n",
    "print (stuff[0])\n",
    "print (stuff.__getitem__(0))\n",
    "print (list.__getitem__(stuff,0))\n",
    "\n",
    "# Code: http://www.py4e.com/code3/party1.py"
   ]
  },
  {
   "source": [
    "Py4E explains: \n",
    "> The first line constructs an object of type list, the second and third lines call\n",
    "the append() method, the fourth line calls the sort() method, and the fifth line\n",
    "retrieves the item at position 0.\n",
    "\n",
    "Py4E explains that the last three lines are equivalent in their results. The last two use the \"dunder\" methods--again, in general, these are not intended for people to use, but there isn't anything stopping you from doing so."
   ],
   "cell_type": "markdown",
   "metadata": {}
  },
  {
   "source": [
    "## 14.4 Starting with programs and 14.5 Subdividing a problem\n",
    "\n",
    "These sections get back to the ideas of abstraction and how, we don't really care how BeutifulSoup parses links out of a page...all we need to know is how to use it.\n"
   ],
   "cell_type": "markdown",
   "metadata": {}
  },
  {
   "source": [
    "14.6 Our first Python object\n",
    "\n",
    "This should really be called \"Our first Python class\" because to make an object, we need a class...\n"
   ],
   "cell_type": "markdown",
   "metadata": {}
  },
  {
   "cell_type": "code",
   "execution_count": 5,
   "metadata": {},
   "outputs": [
    {
     "output_type": "stream",
     "name": "stdout",
     "text": [
      "So far 1\nSo far 2\nSo far 3\nSo far 4\n"
     ]
    }
   ],
   "source": [
    "class PartyAnimal:\n",
    "    x = 0\n",
    "\n",
    "    def party(self) :\n",
    "        self.x = self.x + 1\n",
    "        print(\"So far\",self.x)\n",
    "\n",
    "an = PartyAnimal()\n",
    "an.party()\n",
    "an.party()\n",
    "an.party()\n",
    "PartyAnimal.party(an)\n",
    "\n",
    "# Code: http://www.py4e.com/code3/party2.py"
   ]
  },
  {
   "source": [
    "Before we get too far, I think there is a clearer description of `self` in the online text [Object-Oriented Programming in Python](https://python-textbok.readthedocs.io/en/1.0/index.html) which has this in the [classes section](https://python-textbok.readthedocs.io/en/1.0/Classes.html#defining-and-using-a-class):\n",
    "\n",
    "> You may have noticed that both of these method definitions have `self` as the first parameter, and we use this variable inside the method bodies – but we don’t appear to pass this parameter in. This is because whenever we call a method on an object, *the object itself* is automatically passed in as the first parameter. This gives us a way to access the object’s properties from inside the object’s methods.\n",
    ">\n",
    "> In some languages this parameter is *implicit* – that is, it is not visible in the function signature – and we access it with a special keyword. In Python it is explicitly exposed. It doesn’t have to be called `self`, but this is a very strongly followed convention."
   ],
   "cell_type": "markdown",
   "metadata": {}
  },
  {
   "source": [
    "## 14.7 Classes as types"
   ],
   "cell_type": "markdown",
   "metadata": {}
  },
  {
   "cell_type": "code",
   "execution_count": 6,
   "metadata": {},
   "outputs": [
    {
     "output_type": "stream",
     "name": "stdout",
     "text": [
      "Type <class '__main__.PartyAnimal'>\nDir  ['__class__', '__delattr__', '__dict__', '__dir__', '__doc__', '__eq__', '__format__', '__ge__', '__getattribute__', '__gt__', '__hash__', '__init__', '__init_subclass__', '__le__', '__lt__', '__module__', '__ne__', '__new__', '__reduce__', '__reduce_ex__', '__repr__', '__setattr__', '__sizeof__', '__str__', '__subclasshook__', '__weakref__', 'party', 'x']\nType <class 'int'>\nType <class 'method'>\n"
     ]
    }
   ],
   "source": [
    "an = PartyAnimal()\n",
    "print (\"Type\", type(an))\n",
    "print (\"Dir \", dir(an))\n",
    "print (\"Type\", type(an.x))\n",
    "print (\"Type\", type(an.party))"
   ]
  },
  {
   "source": [
    "## 14.8 Object lifecycle\n",
    "\n",
    "Python can do a lot of the work for use, creating objects and deleting them, but we *can* also write the `__init__` and `__del__` methods:"
   ],
   "cell_type": "markdown",
   "metadata": {}
  },
  {
   "cell_type": "code",
   "execution_count": 7,
   "metadata": {},
   "outputs": [
    {
     "output_type": "stream",
     "name": "stdout",
     "text": [
      "I am constructed\nSo far 1\nSo far 2\nI am destructed 2\nan contains 42\n"
     ]
    }
   ],
   "source": [
    "class PartyAnimal:\n",
    "    x = 0\n",
    "    \n",
    "    def __init__(self):\n",
    "        print('I am constructed')\n",
    "\n",
    "    def party(self) :\n",
    "        self.x = self.x + 1\n",
    "        print('So far',self.x)\n",
    "        \n",
    "    def __del__(self):\n",
    "        print('I am destructed', self.x)\n",
    "\n",
    "an = PartyAnimal()\n",
    "an.party()\n",
    "an.party()\n",
    "an = 42\n",
    "print('an contains',an)\n",
    "\n",
    "# Code: http://www.py4e.com/code3/party4.py"
   ]
  },
  {
   "source": [
    "## 14.9 Multiple instances\n",
    "\n",
    "Just like we can have multiple instance (objects) of the string class, we can have multiple instances of our own classes:"
   ],
   "cell_type": "markdown",
   "metadata": {}
  },
  {
   "cell_type": "code",
   "execution_count": 8,
   "metadata": {},
   "outputs": [
    {
     "output_type": "stream",
     "name": "stdout",
     "text": [
      "Sally constructed\nJim constructed\nSally party count 1\nJim party count 1\nSally party count 2\n"
     ]
    }
   ],
   "source": [
    "class PartyAnimal:\n",
    "    x = 0\n",
    "    name = ''\n",
    "    def __init__(self, nam):\n",
    "        self.name = nam\n",
    "        print(self.name,'constructed')\n",
    "    \n",
    "    def party(self) :\n",
    "        self.x = self.x + 1\n",
    "        print(self.name,'party count',self.x)\n",
    "\n",
    "s = PartyAnimal('Sally')\n",
    "j = PartyAnimal('Jim')\n",
    "\n",
    "s.party()\n",
    "j.party()\n",
    "s.party()\n",
    "# Code: http://www.py4e.com/code3/party5.py"
   ]
  },
  {
   "source": [
    "## 14.10 Inheritance\n",
    "\n",
    "Inheritance is the ability to create new classes (called the child class) that extend the features of and existing class (called the parent class).\n",
    "\n",
    "**Note** that for this example, the PartyAnimal class from section 14.9 is saved to a file in the current directory called [`party.py`](party.py) and is being imported.\n"
   ],
   "cell_type": "markdown",
   "metadata": {}
  },
  {
   "cell_type": "code",
   "execution_count": 10,
   "metadata": {},
   "outputs": [
    {
     "output_type": "stream",
     "name": "stdout",
     "text": [
      "Sally constructed\nSally party count 1\nJim constructed\nJim party count 1\nJim party count 2\nJim points 6\n['__class__', '__delattr__', '__dict__', '__dir__', '__doc__', '__eq__', '__format__', '__ge__', '__getattribute__', '__gt__', '__hash__', '__init__', '__init_subclass__', '__le__', '__lt__', '__module__', '__ne__', '__new__', '__reduce__', '__reduce_ex__', '__repr__', '__setattr__', '__sizeof__', '__str__', '__subclasshook__', '__weakref__', 'name', 'party', 'points', 'six', 'x']\n"
     ]
    }
   ],
   "source": [
    "from party import PartyAnimal\n",
    "\n",
    "class CricketFan(PartyAnimal):\n",
    "    points = 0\n",
    "    def six(self):\n",
    "        self.points = self.points + 6\n",
    "        self.party()\n",
    "        print(self.name,\"points\",self.points)\n",
    "s = PartyAnimal(\"Sally\")\n",
    "s.party()\n",
    "j = CricketFan(\"Jim\")\n",
    "j.party()\n",
    "j.six()\n",
    "print(dir(j))\n",
    "\n",
    "# Code: http://www.py4e.com/code3/party6.py"
   ]
  },
  {
   "source": [
    "## Some additional examples\n",
    "\n",
    "Again taking from the [Object-Oriented Programming in Python](https://python-textbok.readthedocs.io/en/1.0/index.html) text, here's a, perhaps more useful, example. "
   ],
   "cell_type": "markdown",
   "metadata": {}
  },
  {
   "cell_type": "code",
   "execution_count": 12,
   "metadata": {},
   "outputs": [],
   "source": [
    "import datetime # we will use this for date objects\n",
    "\n",
    "class Person:\n",
    "\n",
    "    def __init__(self, name, surname, birthdate, address, telephone, email):\n",
    "        self.name = name\n",
    "        self.surname = surname\n",
    "        self.birthdate = birthdate\n",
    "\n",
    "        self.address = address\n",
    "        self.telephone = telephone\n",
    "        self.email = email\n",
    "\n",
    "    def age(self):\n",
    "        today = datetime.date.today()\n",
    "        age = today.year - self.birthdate.year\n",
    "\n",
    "        if today < datetime.date(today.year, self.birthdate.month, self.birthdate.day):\n",
    "            age -= 1\n",
    "\n",
    "        return age\n"
   ]
  },
  {
   "cell_type": "code",
   "execution_count": null,
   "metadata": {},
   "outputs": [],
   "source": [
    "person = Person(\n",
    "    \"Jane\",\n",
    "    \"Doe\",\n",
    "    datetime.date(1992, 3, 12), # year, month, day\n",
    "    \"No. 12 Short Street, Greenville\",\n",
    "    \"555 456 0987\",\n",
    "    \"jane.doe@example.com\"\n",
    ")\n",
    "\n",
    "print(person.name)\n",
    "print(person.email)\n",
    "print(person.age())"
   ]
  }
 ]
}