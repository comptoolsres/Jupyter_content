{
 "cells": [
  {
   "cell_type": "markdown",
   "metadata": {},
   "source": [
    "# NumPy, SciPy and Pandas\n",
    "\n",
    "Each of these modules could be the topic of a semester-long course, and we will not get into the details of them. \n",
    "\n",
    "One fundemental concept I want to convey is well summarized in this quote from the [SciPy Getting Started page](https://www.scipy.org/getting-started.html):\n",
    "\n",
    "> Don’t reinvent the wheel, there may already be a pre-made solution for your problem.\n",
    "\n",
    "To some extent, this can apply to every module. There are certainly other modules that we could cover--[**BioPython**](https://biopython.org/) being one that I highly recommend you check out. As I've stated, Python is somewhat intentionally stripped down, with limited built-in functionality. But a lot of functionality has been added with modules--**make use of them!** \n",
    "\n",
    "Whatever you plan to do with Python, take some time to look into what modules are available to help you. Don't reinvent the wheel!\n",
    "\n",
    "## Here are the general features of these modules\n",
    "\n",
    "\n",
    "**NumPy** provides array and matrix data types for Python as well as efficient mathematical tools for working with these data types. If your work involves numerical computations, especially matrix manipulations, NumPy is your tool! \n",
    "\n",
    "**SciPy** adds additional tools for integration, diffential equations, optimization, and more. Many mathematically-based scientific computations benefit from SciPy.\n",
    "\n",
    "**Pandas** provides data frames for Python. Data frames are a table representation of data where columns and rows can be named (indexed). Tabular data can be analyzed without data frames, but Pandas and data frames simplify data analysis, and form the foundation of a lot of data science work.\n"
   ]
  },
  {
   "source": [
    "## NumPy and inclusive communities\n",
    "\n",
    "[NumPy](https://numpy.org/) is undoubtedly an important package for Python and its developers (mostly volunteer) have provided a great service to the community, not only with NumPy itself, but enabling development of packages that use NumPy under the hood to add even more functionality. The developers have however done a great disservice  in failing to address issues of inclusion of diverse talents. \n",
    "\n",
    "On September, 16, 2020, *Nature* published the paper [Array Programming with NumPy](https://www.nature.com/articles/s41586-020-2649-2?amp%3Bcode=573df4db-16bd-47ad-b138-d0d9c14134f1) with 26 authors. **All** 26 authors are male! There have been many excuses offered, and commitments to improve ([NumPy Diversity and Inclusion Statement](https://numpy.org/diversity_sep2020/)).\n",
    "\n",
    "This is not news however, a [2018 analysis by Anthony Scopatz](https://nbviewer.jupyter.org/github/scopatz/nf-project-inequality/blob/9b83df3090c9b9b1b953d2905d428b71165ce607/nf-project-inequality.ipynb), found huge \"Inequality of underrepresented groups in PyData Leadership\" (this is an interesting read on its own and is presented as a Jupyter Notebook). Here's the main figure from Anthony's analysis:\n",
    "\n",
    "![image from Anthony Scopatz's analysis, linked from Reshama Shaikh's article on \"Why Women Are Flourishing In R Community But Lagging In Python\"](https://reshamas.github.io/assets/images/numfocus_os.png)\n",
    "\n",
    "The analysis showed high inequality in NumPy and many other Python projects.\n",
    "\n",
    "There is also a very interesting analysis by Reshama Shaikh on \"[Why Women Are Flourishing In R Community But Lagging In Python](https://reshamas.github.io/why-women-are-flourishing-in-r-community-but-lagging-in-python/)\" which contrasts the Python and R communities. I highly recommend reading Rashama's article, it has many good insights as to why R, in general, has succeeded in attracting a more diverse developer community.\n",
    "\n",
    "As I mentioned when looking at Git and Github and the need for developer communities to be more inclusive of racial diversity, stop using offensive terms, and actively work to foster racial diversity, the same is true for gender diversity (Anthony's article also makes a great point about including non-binary people in assessment of diversity).\n",
    "\n",
    "While I am disappointed in the NumPy history and will encourage reforms, if we choose to stop using NumPy, we would not be able to use Python for a wide array (pun intended) of applications. So, we will use NumPy, but also commit to increasing diversity and acknowledge historical wrongs."
   ],
   "cell_type": "markdown",
   "metadata": {}
  },
  {
   "cell_type": "markdown",
   "metadata": {},
   "source": [
    "## NumPy Array and Matrix\n",
    "\n",
    "While lists can do a lot, NumPy offers robust support for arrays and matrices and the math associated with them.\n",
    "\n",
    "One thing we haven't seen yet, is the `import as` construct. We could just `import numpy`, but then when we use a NumPy function, we'd have to type, for example, `numpy.array([6, 7, 8])`. If we instead `import numpy as np`, we make a shorthand and can call array with `np.array([6, 7, 8])`--a few letters shorted each time we type it."
   ]
  },
  {
   "cell_type": "code",
   "execution_count": 4,
   "metadata": {},
   "outputs": [
    {
     "name": "stdout",
     "output_type": "stream",
     "text": [
      "<class 'numpy.ndarray'>\n",
      "[6 7 8]\n"
     ]
    }
   ],
   "source": [
    "import numpy as np\n",
    "\n",
    "my_array=np.array([6, 7, 8])  # Make an array, show type and print it.\n",
    "print(type(my_array))\n",
    "print(my_array)"
   ]
  },
  {
   "cell_type": "code",
   "execution_count": 5,
   "metadata": {},
   "outputs": [
    {
     "data": {
      "text/plain": [
       "array([[ 0,  1,  2],\n",
       "       [ 3,  4,  5],\n",
       "       [ 6,  7,  8],\n",
       "       [ 9, 10, 11],\n",
       "       [12, 13, 14]])"
      ]
     },
     "execution_count": 5,
     "metadata": {},
     "output_type": "execute_result"
    }
   ],
   "source": [
    "matrix = np.arange(15).reshape(5, 3)  # Make 5X3 matrix of the numbers 0-14.\n",
    "matrix"
   ]
  },
  {
   "cell_type": "code",
   "execution_count": 6,
   "metadata": {},
   "outputs": [
    {
     "data": {
      "text/plain": [
       "array([[6],\n",
       "       [7],\n",
       "       [8]])"
      ]
     },
     "execution_count": 6,
     "metadata": {},
     "output_type": "execute_result"
    }
   ],
   "source": [
    "my_array.reshape(3,1)  # Reshape the array to be a vector with 3 rows, 1 column"
   ]
  },
  {
   "cell_type": "code",
   "execution_count": 7,
   "metadata": {},
   "outputs": [
    {
     "data": {
      "text/plain": [
       "array([[  0,   7,  16],\n",
       "       [ 18,  28,  40],\n",
       "       [ 36,  49,  64],\n",
       "       [ 54,  70,  88],\n",
       "       [ 72,  91, 112]])"
      ]
     },
     "execution_count": 7,
     "metadata": {},
     "output_type": "execute_result"
    }
   ],
   "source": [
    "prod=my_array * matrix  # Matrix multiplication\n",
    "prod"
   ]
  },
  {
   "cell_type": "markdown",
   "metadata": {},
   "source": [
    "We could keep going, but would quickly get to the end of my matrix math understanding! But there are functions to make matrixes with 1s on the diagonals, transpose matrices, calculate eigenvectors, etc."
   ]
  },
  {
   "cell_type": "markdown",
   "metadata": {},
   "source": [
    "## SciPy\n",
    "\n",
    "The example here is from the [SciPy Getting Started page](https://www.scipy.org/getting-started.html). I am not concerned about the details. First the demo:"
   ]
  },
  {
   "cell_type": "code",
   "execution_count": 8,
   "metadata": {},
   "outputs": [
    {
     "name": "stdout",
     "output_type": "stream",
     "text": [
      "[0.00000000e+00 2.00040008e-03 4.00080016e-03 ... 9.99599920e+00\n",
      " 9.99799960e+00 1.00000000e+01]\n"
     ]
    }
   ],
   "source": [
    "from scipy import special, optimize\n",
    "\n",
    "f = lambda x: -special.jv(3, x)\n",
    "sol = optimize.minimize(f, 1.0)\n",
    "x = np.linspace(0, 10, 5000)\n",
    "print(x)\n"
   ]
  },
  {
   "cell_type": "markdown",
   "metadata": {},
   "source": [
    "We'll need the `pyplot` funtion of `matplotlib` to plot the graph."
   ]
  },
  {
   "cell_type": "code",
   "execution_count": 9,
   "metadata": {},
   "outputs": [
    {
     "data": {
      "image/png": "[encoded data removed]",
      "text/plain": [
       "<Figure size 432x288 with 1 Axes>"
      ]
     },
     "metadata": {
      "needs_background": "light"
     },
     "output_type": "display_data"
    }
   ],
   "source": [
    "import matplotlib.pyplot as plt\n",
    "fig, ax = plt.subplots()\n",
    "ax.plot(x, special.jv(3, x), '-', sol.x, -sol.fun, 'o')\n",
    "plt.show()\n"
   ]
  },
  {
   "cell_type": "markdown",
   "metadata": {},
   "source": [
    "Looks good...maybe useful...\n",
    "\n",
    "But really, I wanted to show you the script on the same page:\n",
    "\n",
    "```python\n",
    "\n",
    "\"\"\"example.py\n",
    "\n",
    "Compute the maximum of a Bessel function and plot it.\n",
    "\n",
    "\"\"\"\n",
    "import argparse\n",
    "\n",
    "import numpy as np\n",
    "from scipy import special, optimize\n",
    "import matplotlib.pyplot as plt\n",
    "\n",
    "def main():\n",
    "    # Parse command-line arguments\n",
    "    parser = argparse.ArgumentParser(usage=__doc__)\n",
    "    parser.add_argument(\"--order\", type=int, default=3, help=\"order of Bessel function\")\n",
    "    parser.add_argument(\"--output\", default=\"plot.png\", help=\"output image file\")\n",
    "    args = parser.parse_args()\n",
    "\n",
    "    # Compute maximum\n",
    "    f = lambda x: -special.jv(args.order, x)\n",
    "    sol = optimize.minimize(f, 1.0)\n",
    "\n",
    "    # Plot\n",
    "    x = np.linspace(0, 10, 5000)\n",
    "    plt.plot(x, special.jv(args.order, x), '-', sol.x, -sol.fun, 'o')\n",
    "\n",
    "    # Produce output\n",
    "    plt.savefig(args.output, dpi=96)\n",
    "\n",
    "if __name__ == \"__main__\":\n",
    "    main()\n",
    "    \n",
    "```\n",
    "\n",
    "And really all I wanted to talk about was the last couple of lines:\n",
    "\n",
    "```python\n",
    "if __name__ == \"__main__\":\n",
    "    main()\n",
    "```\n"
   ]
  },
  {
   "cell_type": "markdown",
   "metadata": {},
   "source": [
    "### `if __name__ == \"__main__\":`\n",
    "\n",
    "I want to show you this because it is common and also a bit confusing if you don't understand it.\n",
    "\n",
    "`__name__` is a variable that Python uses to tell if the code is being launched from the command line, or has been called as a function. Let's use an addition function from earlier as an example:"
   ]
  },
  {
   "cell_type": "code",
   "execution_count": 12,
   "metadata": {},
   "outputs": [
    {
     "name": "stdin",
     "output_type": "stream",
     "text": [
      "Please type one number: 5\n",
      "Please type another number: 6\n"
     ]
    },
    {
     "name": "stdout",
     "output_type": "stream",
     "text": [
      "5.0 + 6.0 = 11.0\n"
     ]
    }
   ],
   "source": [
    "def add_two(a,b):\n",
    "    c=a+b\n",
    "    return c\n",
    "\n",
    "num1=float(input(\"Please type one number:\"))\n",
    "num2=float(input(\"Please type another number:\"))\n",
    "\n",
    "print(num1, \"+\", num2,\"=\", add_two(num1,num2))\n",
    "\n",
    "# Saved as add_two_prompt.py"
   ]
  },
  {
   "cell_type": "markdown",
   "metadata": {},
   "source": [
    "Note that I haven't added all the good `try:`/`except:` and other cool stuff to make this more robust, but whatever...\n",
    "\n",
    "Now, let's imagine `add_two` is the most amazing function ever written and in our next script we realize that we want to use the `add_two` function.\n",
    "\n",
    "Let's save the above to a file called `add_two_prompt.py`, and run it on the command line:\n",
    "\n",
    "```bash\n",
    "$ python add_two_prompt.py\n",
    "Please type one number:4\n",
    "Please type another number:5\n",
    "4.0 + 5.0 = 9.0\n",
    "$\n",
    "```\n",
    "\n"
   ]
  },
  {
   "cell_type": "code",
   "execution_count": 13,
   "metadata": {},
   "outputs": [
    {
     "name": "stdin",
     "output_type": "stream",
     "text": [
      "Please type one number: 5\n",
      "Please type another number: 6\n"
     ]
    },
    {
     "name": "stdout",
     "output_type": "stream",
     "text": [
      "5.0 + 6.0 = 11.0\n"
     ]
    }
   ],
   "source": [
    "import add_two_prompt\n"
   ]
  },
  {
   "cell_type": "markdown",
   "metadata": {},
   "source": [
    "But as soon as we import the add_two_prompt script, the script is run, prompting the user for the numbers and calling the function! That probably isn't what we want!\n",
    "\n",
    "We want to import the function and be able to run it with two numbers. We don't want to prompt the user for numbers, we just want to be able to call the `add_two` function.\n",
    "\n",
    "We could edit the add_two_prompt script to remove the part about prompting the user for numbers, but that would break that neat functionality.\n",
    "\n",
    "What we want is to only prompt the user for numbers when we run the script from the command line, but otherwise, we just want to add the add_two function to our toolbox.\n",
    "\n",
    "The way to do that is with the `if __name__ == \"__main__\":`\n",
    "\n",
    "Let's change the script to look like:\n",
    "\n",
    "```python\n",
    "#!/usr/bin/env python3\n",
    "\n",
    "def add_two(a,b):\n",
    "    c=a+b\n",
    "    return c\n",
    "\n",
    "def main():\n",
    "    num1=float(input(\"Please type one number:\"))\n",
    "    num2=float(input(\"Please type another number:\"))\n",
    "\n",
    "    print(num1, \"+\", num2,\"=\", add_two(num1,num2))\n",
    "\n",
    "if __name__ == \"__main__\":\n",
    "    main()\n",
    "\n",
    "# Saved as add_two_ifmain.py\n",
    "```\n"
   ]
  },
  {
   "cell_type": "markdown",
   "metadata": {},
   "source": [
    "That works on the command line still.\n",
    "\n",
    "But we can import it and use as intended:"
   ]
  },
  {
   "cell_type": "code",
   "execution_count": 14,
   "metadata": {},
   "outputs": [
    {
     "name": "stdout",
     "output_type": "stream",
     "text": [
      "Your score is: 25\n"
     ]
    }
   ],
   "source": [
    "import add_two_ifmain\n",
    "\n",
    "score=20\n",
    "bonus=5\n",
    "\n",
    "print(\"Your score is:\", add_two_ifmain.add_two(score,bonus))"
   ]
  },
  {
   "cell_type": "markdown",
   "metadata": {},
   "source": [
    "By moving the interactive parts of the program to the \"main\" function and using the `__name__` variable, we have the best of both worlds.\n",
    "\n",
    "Mostly I want to show this because you will find a lot of examples that look like this and it can be confusing if you don't understand what they are doing."
   ]
  },
  {
   "cell_type": "markdown",
   "metadata": {},
   "source": [
    "## Pandas\n",
    "\n",
    "Pandas makes analyzing tabular data so much easier. There's a lot that can be done in Pandas, but let's use our flights data as an example.\n",
    "\n",
    "Turns out there's a similar dataset online here:"
   ]
  },
  {
   "cell_type": "code",
   "execution_count": 15,
   "metadata": {},
   "outputs": [
    {
     "data": {
      "text/html": [
       "<div>\n",
       "<style scoped>\n",
       "    .dataframe tbody tr th:only-of-type {\n",
       "        vertical-align: middle;\n",
       "    }\n",
       "\n",
       "    .dataframe tbody tr th {\n",
       "        vertical-align: top;\n",
       "    }\n",
       "\n",
       "    .dataframe thead th {\n",
       "        text-align: right;\n",
       "    }\n",
       "</style>\n",
       "<table border=\"1\" class=\"dataframe\">\n",
       "  <thead>\n",
       "    <tr style=\"text-align: right;\">\n",
       "      <th></th>\n",
       "      <th>FL_DATE</th>\n",
       "      <th>ORIGIN</th>\n",
       "      <th>DEST</th>\n",
       "      <th>ARR_DELAY_NEW</th>\n",
       "      <th>WEATHER_DELAY</th>\n",
       "    </tr>\n",
       "  </thead>\n",
       "  <tbody>\n",
       "    <tr>\n",
       "      <th>0</th>\n",
       "      <td>2017-05-01</td>\n",
       "      <td>LAX</td>\n",
       "      <td>IAD</td>\n",
       "      <td>50.0</td>\n",
       "      <td>0.0</td>\n",
       "    </tr>\n",
       "    <tr>\n",
       "      <th>1</th>\n",
       "      <td>2017-05-01</td>\n",
       "      <td>LAX</td>\n",
       "      <td>IAD</td>\n",
       "      <td>0.0</td>\n",
       "      <td>NaN</td>\n",
       "    </tr>\n",
       "    <tr>\n",
       "      <th>2</th>\n",
       "      <td>2017-05-01</td>\n",
       "      <td>SAN</td>\n",
       "      <td>SFO</td>\n",
       "      <td>0.0</td>\n",
       "      <td>NaN</td>\n",
       "    </tr>\n",
       "    <tr>\n",
       "      <th>3</th>\n",
       "      <td>2017-05-01</td>\n",
       "      <td>SFO</td>\n",
       "      <td>EWR</td>\n",
       "      <td>111.0</td>\n",
       "      <td>0.0</td>\n",
       "    </tr>\n",
       "    <tr>\n",
       "      <th>4</th>\n",
       "      <td>2017-05-01</td>\n",
       "      <td>JFK</td>\n",
       "      <td>SFO</td>\n",
       "      <td>6.0</td>\n",
       "      <td>NaN</td>\n",
       "    </tr>\n",
       "  </tbody>\n",
       "</table>\n",
       "</div>"
      ],
      "text/plain": [
       "      FL_DATE ORIGIN DEST  ARR_DELAY_NEW  WEATHER_DELAY\n",
       "0  2017-05-01    LAX  IAD           50.0            0.0\n",
       "1  2017-05-01    LAX  IAD            0.0            NaN\n",
       "2  2017-05-01    SAN  SFO            0.0            NaN\n",
       "3  2017-05-01    SFO  EWR          111.0            0.0\n",
       "4  2017-05-01    JFK  SFO            6.0            NaN"
      ]
     },
     "execution_count": 15,
     "metadata": {},
     "output_type": "execute_result"
    }
   ],
   "source": [
    "import pandas as pd\n",
    "\n",
    "# Note you will likely need to update the path here!!!\n",
    "# This file is too large for git, but is available at: \n",
    "#   https://www.dropbox.com/s/jizx4ijnpxmi3av/flights.May2017-Apr2018.csv?dl=0\n",
    "\n",
    "# Importing the whole dataset takes >4GB of RAM. To avoid this, let's use just a few columns.\n",
    "columns=['FL_DATE','ORIGIN','DEST','ARR_DELAY_NEW','WEATHER_DELAY']\n",
    "\n",
    "# The usecols argument is a list of columns to import.\n",
    "df=pd.read_csv(\"../shared_data/flights.May2017-Apr1018.csv\", usecols=columns)\n",
    "\n",
    "\n",
    "df.head()"
   ]
  },
  {
   "cell_type": "code",
   "execution_count": 16,
   "metadata": {
    "scrolled": true
   },
   "outputs": [
    {
     "data": {
      "text/plain": [
       "FL_DATE          1525\n",
       "ORIGIN           1525\n",
       "DEST             1525\n",
       "ARR_DELAY_NEW    1525\n",
       "WEATHER_DELAY     804\n",
       "dtype: int64"
      ]
     },
     "execution_count": 16,
     "metadata": {},
     "output_type": "execute_result"
    }
   ],
   "source": [
    "# Count rows where the ORIGIN or DEST are GNV and the ARR_DELAY_NEW is > 0.\n",
    "df[((df.ORIGIN=='GNV') | (df.DEST=='GNV')) & df.ARR_DELAY_NEW>0].count()"
   ]
  },
  {
   "cell_type": "code",
   "execution_count": null,
   "metadata": {},
   "outputs": [],
   "source": [
    "late = df[((df.ORIGIN=='GNV') | (df.DEST=='GNV')) & df.ARR_DELAY_NEW>0]\n",
    "late.head()"
   ]
  },
  {
   "cell_type": "markdown",
   "metadata": {},
   "source": [
    "We could keep going with this, but where to stop..."
   ]
  },
  {
   "cell_type": "markdown",
   "metadata": {},
   "source": [
    "## Keep going...\n",
    "\n",
    "There's a ton of online resources for Pandas. Here's a few suggestions:\n",
    "\n",
    "* [Top 8 resources for learning data analysis with Pandas](https://www.dataschool.io/best-python-pandas-resources/)\n",
    "\n",
    "* The videos and Juyter notebooks from: [Easier data analysis in Python with Pandas](https://www.dataschool.io/easier-data-analysis-with-pandas/)\n",
    "\n",
    "* The [Python Data Science Handbook](https://jakevdp.github.io/PythonDataScienceHandbook/) has a chapter on Pandas. This is a great book!\n"
   ]
  },
  {
   "cell_type": "code",
   "execution_count": null,
   "metadata": {},
   "outputs": [],
   "source": []
  },
  {
   "cell_type": "code",
   "execution_count": null,
   "metadata": {},
   "outputs": [],
   "source": []
  }
 ],
 "metadata": {
  "kernelspec": {
   "display_name": "Python 3.8 (full)",
   "language": "python",
   "name": "python3-3.8-ufrc"
  },
  "language_info": {
   "codemirror_mode": {
    "name": "ipython",
    "version": 3
   },
   "file_extension": ".py",
   "mimetype": "text/x-python",
   "name": "python",
   "nbconvert_exporter": "python",
   "pygments_lexer": "ipython3",
   "version": "3.8.1"
  }
 },
 "nbformat": 4,
 "nbformat_minor": 4
}